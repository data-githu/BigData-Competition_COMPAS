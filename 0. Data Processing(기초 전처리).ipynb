{
 "cells": [
  {
   "cell_type": "code",
   "execution_count": 29,
   "id": "indirect-document",
   "metadata": {},
   "outputs": [],
   "source": [
    "# 필요한 라이브러리 import\n",
    "\n",
    "import folium\n",
    "import numpy as np\n",
    "import pandas as pd\n",
    "\n",
    "# 컬럼 전체 확인 가능하도록 출력 범위 설정\n",
    "pd.set_option('display.max_columns', 500)\n",
    "pd.set_option('display.width', 1000)\n",
    "\n",
    "\n",
    "import geopandas as gpd\n",
    "\n",
    "#시각화 모듈\n",
    "import matplotlib\n",
    "import matplotlib.pyplot as plt\n",
    "import matplotlib.font_manager as fm\n",
    "import seaborn as sns\n",
    "\n",
    "\n",
    "# 한글 글자 깨짐 방지\n",
    "plt.rcParams[\"font.family\"] = 'Nanum Gothic'\n",
    "sns.set(font=\"Malgun Gothic\", \n",
    "        rc={\"axes.unicode_minus\":False},\n",
    "        style='darkgrid')\n",
    "\n",
    "\n",
    "# 불필요한 경고 표시 생략\n",
    "import warnings\n",
    "warnings.filterwarnings(action = 'ignore')"
   ]
  },
  {
   "cell_type": "code",
   "execution_count": 30,
   "id": "ideal-manor",
   "metadata": {},
   "outputs": [],
   "source": [
    "data1 = pd.read_csv('1.대전광역시_교통사고내역(2017~2019).csv')\n",
    "data12 = gpd.read_file('12.대전광역시_인구정보(총인구).geojson')\n",
    "data13 = gpd.read_file('13.대전광역시_인구정보(고령).geojson')\n",
    "data14 = gpd.read_file('14.대전광역시_인구정보(생산가능).geojson')\n",
    "data15 = gpd.read_file('15.대전광역시_인구정보(유소년).geojson')\n",
    "data16 = pd.read_csv('16.대전광역시_기상데이터(2017~2019).csv')\n",
    "data18 = gpd.read_file('18.대전광역시_교통노드(2018).geojson')\n",
    "data20 = pd.read_csv('20.대전광역시_평일_일별_시간대별_추정교통량(2018).csv')\n",
    "data21 = pd.read_csv('21.대전광역시_평일_일별_혼잡빈도강도(2018).csv')\n",
    "data22 = pd.read_csv('22.대전광역시_평일_일별_혼잡시간강도(2018).csv')"
   ]
  },
  {
   "cell_type": "markdown",
   "id": "empty-recycling",
   "metadata": {},
   "source": [
    "# Type1 - gid, geometry로 병합할 수 없는 데이터\n",
    "## data1"
   ]
  },
  {
   "cell_type": "code",
   "execution_count": 31,
   "id": "attached-investing",
   "metadata": {},
   "outputs": [],
   "source": [
    "from scipy.stats import mode\n",
    "data1 = pd.read_csv('1.대전광역시_교통사고내역(2017~2019).csv')"
   ]
  },
  {
   "cell_type": "code",
   "execution_count": 32,
   "id": "british-durham",
   "metadata": {},
   "outputs": [
    {
     "data": {
      "text/html": [
       "<div>\n",
       "<style scoped>\n",
       "    .dataframe tbody tr th:only-of-type {\n",
       "        vertical-align: middle;\n",
       "    }\n",
       "\n",
       "    .dataframe tbody tr th {\n",
       "        vertical-align: top;\n",
       "    }\n",
       "\n",
       "    .dataframe thead th {\n",
       "        text-align: right;\n",
       "    }\n",
       "</style>\n",
       "<table border=\"1\" class=\"dataframe\">\n",
       "  <thead>\n",
       "    <tr style=\"text-align: right;\">\n",
       "      <th></th>\n",
       "      <th>사고일</th>\n",
       "      <th>시군구</th>\n",
       "      <th>사고유형</th>\n",
       "      <th>법규위반</th>\n",
       "      <th>사고내용</th>\n",
       "      <th>사망자수</th>\n",
       "      <th>중상자수</th>\n",
       "      <th>경상자수</th>\n",
       "      <th>부상신고자수</th>\n",
       "      <th>가해운전자 차종</th>\n",
       "      <th>가해운전자 연령대</th>\n",
       "      <th>가해운전자 성별</th>\n",
       "      <th>피해운전자 차종</th>\n",
       "      <th>피해운전자 연령대</th>\n",
       "      <th>피해운전자 성별</th>\n",
       "      <th>gid</th>\n",
       "      <th>구</th>\n",
       "      <th>동</th>\n",
       "      <th>세부사고유형</th>\n",
       "    </tr>\n",
       "  </thead>\n",
       "  <tbody>\n",
       "    <tr>\n",
       "      <th>0</th>\n",
       "      <td>2017-01-01</td>\n",
       "      <td>대전광역시 서구 용문동</td>\n",
       "      <td>차대차</td>\n",
       "      <td>안전운전불이행</td>\n",
       "      <td>중상사고</td>\n",
       "      <td>0</td>\n",
       "      <td>1</td>\n",
       "      <td>1</td>\n",
       "      <td>0</td>\n",
       "      <td>승용</td>\n",
       "      <td>50대</td>\n",
       "      <td>남</td>\n",
       "      <td>승용</td>\n",
       "      <td>60대</td>\n",
       "      <td>남</td>\n",
       "      <td>다바905151</td>\n",
       "      <td>서구</td>\n",
       "      <td>용문동</td>\n",
       "      <td>측면충돌</td>\n",
       "    </tr>\n",
       "    <tr>\n",
       "      <th>1</th>\n",
       "      <td>2017-01-01</td>\n",
       "      <td>대전광역시 서구 탄방동</td>\n",
       "      <td>차대차</td>\n",
       "      <td>안전운전불이행</td>\n",
       "      <td>경상사고</td>\n",
       "      <td>0</td>\n",
       "      <td>0</td>\n",
       "      <td>1</td>\n",
       "      <td>0</td>\n",
       "      <td>승용</td>\n",
       "      <td>50대</td>\n",
       "      <td>남</td>\n",
       "      <td>승용</td>\n",
       "      <td>30대</td>\n",
       "      <td>남</td>\n",
       "      <td>다바905166</td>\n",
       "      <td>서구</td>\n",
       "      <td>탄방동</td>\n",
       "      <td>추돌</td>\n",
       "    </tr>\n",
       "    <tr>\n",
       "      <th>2</th>\n",
       "      <td>2017-01-01</td>\n",
       "      <td>대전광역시 서구 둔산동</td>\n",
       "      <td>차대사람</td>\n",
       "      <td>안전운전불이행</td>\n",
       "      <td>중상사고</td>\n",
       "      <td>0</td>\n",
       "      <td>1</td>\n",
       "      <td>0</td>\n",
       "      <td>0</td>\n",
       "      <td>승용</td>\n",
       "      <td>30대</td>\n",
       "      <td>남</td>\n",
       "      <td>보행자</td>\n",
       "      <td>10대</td>\n",
       "      <td>여</td>\n",
       "      <td>다바888169</td>\n",
       "      <td>서구</td>\n",
       "      <td>둔산동</td>\n",
       "      <td>횡단중</td>\n",
       "    </tr>\n",
       "    <tr>\n",
       "      <th>3</th>\n",
       "      <td>2017-01-01</td>\n",
       "      <td>대전광역시 대덕구 오정동</td>\n",
       "      <td>차대차</td>\n",
       "      <td>안전운전불이행</td>\n",
       "      <td>경상사고</td>\n",
       "      <td>0</td>\n",
       "      <td>0</td>\n",
       "      <td>2</td>\n",
       "      <td>0</td>\n",
       "      <td>승용</td>\n",
       "      <td>50대</td>\n",
       "      <td>남</td>\n",
       "      <td>승합</td>\n",
       "      <td>40대</td>\n",
       "      <td>남</td>\n",
       "      <td>다바917174</td>\n",
       "      <td>대덕구</td>\n",
       "      <td>오정동</td>\n",
       "      <td>추돌</td>\n",
       "    </tr>\n",
       "    <tr>\n",
       "      <th>4</th>\n",
       "      <td>2017-01-01</td>\n",
       "      <td>대전광역시 유성구 노은동</td>\n",
       "      <td>차대사람</td>\n",
       "      <td>안전운전불이행</td>\n",
       "      <td>경상사고</td>\n",
       "      <td>0</td>\n",
       "      <td>0</td>\n",
       "      <td>1</td>\n",
       "      <td>0</td>\n",
       "      <td>승용</td>\n",
       "      <td>80대</td>\n",
       "      <td>남</td>\n",
       "      <td>보행자</td>\n",
       "      <td>10대미만</td>\n",
       "      <td>남</td>\n",
       "      <td>다바841191</td>\n",
       "      <td>유성구</td>\n",
       "      <td>노은동</td>\n",
       "      <td>횡단중</td>\n",
       "    </tr>\n",
       "  </tbody>\n",
       "</table>\n",
       "</div>"
      ],
      "text/plain": [
       "          사고일            시군구   사고유형     법규위반  사고내용  사망자수  중상자수  경상자수  부상신고자수 가해운전자 차종 가해운전자 연령대 가해운전자 성별 피해운전자 차종 피해운전자 연령대 피해운전자 성별       gid    구    동 세부사고유형\n",
       "0  2017-01-01   대전광역시 서구 용문동   차대차   안전운전불이행  중상사고     0     1     1       0       승용       50대        남       승용       60대        남  다바905151   서구  용문동   측면충돌\n",
       "1  2017-01-01   대전광역시 서구 탄방동   차대차   안전운전불이행  경상사고     0     0     1       0       승용       50대        남       승용       30대        남  다바905166   서구  탄방동     추돌\n",
       "2  2017-01-01   대전광역시 서구 둔산동  차대사람   안전운전불이행  중상사고     0     1     0       0       승용       30대        남      보행자       10대        여  다바888169   서구  둔산동    횡단중\n",
       "3  2017-01-01  대전광역시 대덕구 오정동   차대차   안전운전불이행  경상사고     0     0     2       0       승용       50대        남       승합       40대        남  다바917174  대덕구  오정동     추돌\n",
       "4  2017-01-01  대전광역시 유성구 노은동  차대사람   안전운전불이행  경상사고     0     0     1       0       승용       80대        남      보행자     10대미만        남  다바841191  유성구  노은동    횡단중"
      ]
     },
     "execution_count": 32,
     "metadata": {},
     "output_type": "execute_result"
    }
   ],
   "source": [
    "#시군구에서 구,동을 분리\n",
    "data1['구'] = [x[1] for x in data1['시군구'].str.split(' ')]\n",
    "data1['동'] = [x[2] for x in data1['시군구'].str.split(' ')]\n",
    "\n",
    "#사고유형을 '-'를 기준으로 분리\n",
    "data1['세부사고유형'] = [x[1] for x in data1['사고유형'].str.split('-')]\n",
    "data1['사고유형'] = [x[0] for x in data1['사고유형'].str.split('-')]\n",
    "\n",
    "data1.head()"
   ]
  },
  {
   "cell_type": "code",
   "execution_count": 33,
   "id": "structural-bread",
   "metadata": {},
   "outputs": [
    {
     "data": {
      "text/plain": [
       "ModeResult(mode=array(['50대'], dtype=object), count=array([4766]))"
      ]
     },
     "execution_count": 33,
     "metadata": {},
     "output_type": "execute_result"
    }
   ],
   "source": [
    "mode(data1['피해운전자 연령대'])"
   ]
  },
  {
   "cell_type": "code",
   "execution_count": 34,
   "id": "careful-myanmar",
   "metadata": {},
   "outputs": [
    {
     "data": {
      "text/plain": [
       "ModeResult(mode=array(['50대'], dtype=object), count=array([5750]))"
      ]
     },
     "execution_count": 34,
     "metadata": {},
     "output_type": "execute_result"
    }
   ],
   "source": [
    "mode(data1['가해운전자 연령대'])"
   ]
  },
  {
   "cell_type": "code",
   "execution_count": 35,
   "id": "inappropriate-lesbian",
   "metadata": {},
   "outputs": [
    {
     "data": {
      "text/plain": [
       "Index(['사고일', '시군구', '사고유형', '법규위반', '사고내용', '사망자수', '중상자수', '경상자수', '부상신고자수', '가해운전자 차종', '가해운전자 연령대', '가해운전자 성별', '피해운전자 차종', '피해운전자 연령대', '피해운전자 성별', 'gid', '구', '동', '세부사고유형'], dtype='object')"
      ]
     },
     "execution_count": 35,
     "metadata": {},
     "output_type": "execute_result"
    }
   ],
   "source": [
    "# 연령대 이상값 -> 최빈값\n",
    "# 피해 운전자 최빈값 50대\n",
    "# 가해 운전자 최빈값 30대\n",
    "data1['피해운전자 연령대']=data1['피해운전자 연령대'].replace('미분류','50대')\n",
    "data1['가해운전자 연령대']=data1['가해운전자 연령대'].replace('기타불명','30대')\n",
    "\n",
    "# 피해 차종 null값 삭제 \n",
    "drop_list = data1[data1['피해운전자 차종'].isnull()]\n",
    "data1.drop(drop_list.index,axis=0,inplace=True)\n",
    "data1.columns"
   ]
  },
  {
   "cell_type": "code",
   "execution_count": 36,
   "id": "conservative-healing",
   "metadata": {},
   "outputs": [],
   "source": [
    "data1 = data1[['사고일', '구', '동','사고유형','세부사고유형', '법규위반', '사고내용', '사망자수', '중상자수', '경상자수','부상신고자수', '가해운전자 차종', '가해운전자 연령대', '가해운전자 성별', '피해운전자 차종', '피해운전자 연령대', '피해운전자 성별', 'gid']]\n",
    "data1.reset_index(inplace=True)\n",
    "data1.to_csv('accident_data.csv', index=False)"
   ]
  },
  {
   "cell_type": "code",
   "execution_count": 37,
   "id": "prospective-occurrence",
   "metadata": {},
   "outputs": [
    {
     "data": {
      "text/html": [
       "<div>\n",
       "<style scoped>\n",
       "    .dataframe tbody tr th:only-of-type {\n",
       "        vertical-align: middle;\n",
       "    }\n",
       "\n",
       "    .dataframe tbody tr th {\n",
       "        vertical-align: top;\n",
       "    }\n",
       "\n",
       "    .dataframe thead th {\n",
       "        text-align: right;\n",
       "    }\n",
       "</style>\n",
       "<table border=\"1\" class=\"dataframe\">\n",
       "  <thead>\n",
       "    <tr style=\"text-align: right;\">\n",
       "      <th></th>\n",
       "      <th>index</th>\n",
       "      <th>사고일</th>\n",
       "      <th>구</th>\n",
       "      <th>동</th>\n",
       "      <th>사고유형</th>\n",
       "      <th>세부사고유형</th>\n",
       "      <th>법규위반</th>\n",
       "      <th>사고내용</th>\n",
       "      <th>사망자수</th>\n",
       "      <th>중상자수</th>\n",
       "      <th>경상자수</th>\n",
       "      <th>부상신고자수</th>\n",
       "      <th>가해운전자 차종</th>\n",
       "      <th>가해운전자 연령대</th>\n",
       "      <th>가해운전자 성별</th>\n",
       "      <th>피해운전자 차종</th>\n",
       "      <th>피해운전자 연령대</th>\n",
       "      <th>피해운전자 성별</th>\n",
       "      <th>gid</th>\n",
       "    </tr>\n",
       "  </thead>\n",
       "  <tbody>\n",
       "    <tr>\n",
       "      <th>0</th>\n",
       "      <td>0</td>\n",
       "      <td>2017-01-01</td>\n",
       "      <td>서구</td>\n",
       "      <td>용문동</td>\n",
       "      <td>차대차</td>\n",
       "      <td>측면충돌</td>\n",
       "      <td>안전운전불이행</td>\n",
       "      <td>중상사고</td>\n",
       "      <td>0</td>\n",
       "      <td>1</td>\n",
       "      <td>1</td>\n",
       "      <td>0</td>\n",
       "      <td>승용</td>\n",
       "      <td>50대</td>\n",
       "      <td>남</td>\n",
       "      <td>승용</td>\n",
       "      <td>60대</td>\n",
       "      <td>남</td>\n",
       "      <td>다바905151</td>\n",
       "    </tr>\n",
       "    <tr>\n",
       "      <th>1</th>\n",
       "      <td>1</td>\n",
       "      <td>2017-01-01</td>\n",
       "      <td>서구</td>\n",
       "      <td>탄방동</td>\n",
       "      <td>차대차</td>\n",
       "      <td>추돌</td>\n",
       "      <td>안전운전불이행</td>\n",
       "      <td>경상사고</td>\n",
       "      <td>0</td>\n",
       "      <td>0</td>\n",
       "      <td>1</td>\n",
       "      <td>0</td>\n",
       "      <td>승용</td>\n",
       "      <td>50대</td>\n",
       "      <td>남</td>\n",
       "      <td>승용</td>\n",
       "      <td>30대</td>\n",
       "      <td>남</td>\n",
       "      <td>다바905166</td>\n",
       "    </tr>\n",
       "    <tr>\n",
       "      <th>2</th>\n",
       "      <td>2</td>\n",
       "      <td>2017-01-01</td>\n",
       "      <td>서구</td>\n",
       "      <td>둔산동</td>\n",
       "      <td>차대사람</td>\n",
       "      <td>횡단중</td>\n",
       "      <td>안전운전불이행</td>\n",
       "      <td>중상사고</td>\n",
       "      <td>0</td>\n",
       "      <td>1</td>\n",
       "      <td>0</td>\n",
       "      <td>0</td>\n",
       "      <td>승용</td>\n",
       "      <td>30대</td>\n",
       "      <td>남</td>\n",
       "      <td>보행자</td>\n",
       "      <td>10대</td>\n",
       "      <td>여</td>\n",
       "      <td>다바888169</td>\n",
       "    </tr>\n",
       "    <tr>\n",
       "      <th>3</th>\n",
       "      <td>3</td>\n",
       "      <td>2017-01-01</td>\n",
       "      <td>대덕구</td>\n",
       "      <td>오정동</td>\n",
       "      <td>차대차</td>\n",
       "      <td>추돌</td>\n",
       "      <td>안전운전불이행</td>\n",
       "      <td>경상사고</td>\n",
       "      <td>0</td>\n",
       "      <td>0</td>\n",
       "      <td>2</td>\n",
       "      <td>0</td>\n",
       "      <td>승용</td>\n",
       "      <td>50대</td>\n",
       "      <td>남</td>\n",
       "      <td>승합</td>\n",
       "      <td>40대</td>\n",
       "      <td>남</td>\n",
       "      <td>다바917174</td>\n",
       "    </tr>\n",
       "    <tr>\n",
       "      <th>4</th>\n",
       "      <td>4</td>\n",
       "      <td>2017-01-01</td>\n",
       "      <td>유성구</td>\n",
       "      <td>노은동</td>\n",
       "      <td>차대사람</td>\n",
       "      <td>횡단중</td>\n",
       "      <td>안전운전불이행</td>\n",
       "      <td>경상사고</td>\n",
       "      <td>0</td>\n",
       "      <td>0</td>\n",
       "      <td>1</td>\n",
       "      <td>0</td>\n",
       "      <td>승용</td>\n",
       "      <td>80대</td>\n",
       "      <td>남</td>\n",
       "      <td>보행자</td>\n",
       "      <td>10대미만</td>\n",
       "      <td>남</td>\n",
       "      <td>다바841191</td>\n",
       "    </tr>\n",
       "    <tr>\n",
       "      <th>...</th>\n",
       "      <td>...</td>\n",
       "      <td>...</td>\n",
       "      <td>...</td>\n",
       "      <td>...</td>\n",
       "      <td>...</td>\n",
       "      <td>...</td>\n",
       "      <td>...</td>\n",
       "      <td>...</td>\n",
       "      <td>...</td>\n",
       "      <td>...</td>\n",
       "      <td>...</td>\n",
       "      <td>...</td>\n",
       "      <td>...</td>\n",
       "      <td>...</td>\n",
       "      <td>...</td>\n",
       "      <td>...</td>\n",
       "      <td>...</td>\n",
       "      <td>...</td>\n",
       "      <td>...</td>\n",
       "    </tr>\n",
       "    <tr>\n",
       "      <th>22976</th>\n",
       "      <td>23647</td>\n",
       "      <td>2019-12-31</td>\n",
       "      <td>중구</td>\n",
       "      <td>대흥동</td>\n",
       "      <td>차대사람</td>\n",
       "      <td>횡단중</td>\n",
       "      <td>보행자보호의무위반</td>\n",
       "      <td>경상사고</td>\n",
       "      <td>0</td>\n",
       "      <td>0</td>\n",
       "      <td>1</td>\n",
       "      <td>0</td>\n",
       "      <td>승용</td>\n",
       "      <td>50대</td>\n",
       "      <td>남</td>\n",
       "      <td>보행자</td>\n",
       "      <td>20대</td>\n",
       "      <td>여</td>\n",
       "      <td>다바936139</td>\n",
       "    </tr>\n",
       "    <tr>\n",
       "      <th>22977</th>\n",
       "      <td>23648</td>\n",
       "      <td>2019-12-31</td>\n",
       "      <td>중구</td>\n",
       "      <td>부사동</td>\n",
       "      <td>차대사람</td>\n",
       "      <td>기타</td>\n",
       "      <td>안전운전불이행</td>\n",
       "      <td>중상사고</td>\n",
       "      <td>0</td>\n",
       "      <td>1</td>\n",
       "      <td>0</td>\n",
       "      <td>0</td>\n",
       "      <td>승용</td>\n",
       "      <td>40대</td>\n",
       "      <td>남</td>\n",
       "      <td>보행자</td>\n",
       "      <td>70대</td>\n",
       "      <td>여</td>\n",
       "      <td>다바941131</td>\n",
       "    </tr>\n",
       "    <tr>\n",
       "      <th>22978</th>\n",
       "      <td>23649</td>\n",
       "      <td>2019-12-31</td>\n",
       "      <td>동구</td>\n",
       "      <td>가양동</td>\n",
       "      <td>차대차</td>\n",
       "      <td>추돌</td>\n",
       "      <td>안전운전불이행</td>\n",
       "      <td>중상사고</td>\n",
       "      <td>0</td>\n",
       "      <td>1</td>\n",
       "      <td>1</td>\n",
       "      <td>0</td>\n",
       "      <td>승용</td>\n",
       "      <td>20대</td>\n",
       "      <td>남</td>\n",
       "      <td>승용</td>\n",
       "      <td>50대</td>\n",
       "      <td>여</td>\n",
       "      <td>다바946171</td>\n",
       "    </tr>\n",
       "    <tr>\n",
       "      <th>22979</th>\n",
       "      <td>23650</td>\n",
       "      <td>2019-12-31</td>\n",
       "      <td>대덕구</td>\n",
       "      <td>상서동</td>\n",
       "      <td>차대차</td>\n",
       "      <td>기타</td>\n",
       "      <td>안전운전불이행</td>\n",
       "      <td>경상사고</td>\n",
       "      <td>0</td>\n",
       "      <td>0</td>\n",
       "      <td>3</td>\n",
       "      <td>0</td>\n",
       "      <td>승용</td>\n",
       "      <td>30대</td>\n",
       "      <td>남</td>\n",
       "      <td>승용</td>\n",
       "      <td>40대</td>\n",
       "      <td>여</td>\n",
       "      <td>다바929255</td>\n",
       "    </tr>\n",
       "    <tr>\n",
       "      <th>22980</th>\n",
       "      <td>23651</td>\n",
       "      <td>2019-12-31</td>\n",
       "      <td>대덕구</td>\n",
       "      <td>송촌동</td>\n",
       "      <td>차대사람</td>\n",
       "      <td>횡단중</td>\n",
       "      <td>안전운전불이행</td>\n",
       "      <td>경상사고</td>\n",
       "      <td>0</td>\n",
       "      <td>0</td>\n",
       "      <td>2</td>\n",
       "      <td>0</td>\n",
       "      <td>승용</td>\n",
       "      <td>60대</td>\n",
       "      <td>남</td>\n",
       "      <td>보행자</td>\n",
       "      <td>50대</td>\n",
       "      <td>남</td>\n",
       "      <td>다바946187</td>\n",
       "    </tr>\n",
       "  </tbody>\n",
       "</table>\n",
       "<p>22981 rows × 19 columns</p>\n",
       "</div>"
      ],
      "text/plain": [
       "       index         사고일    구    동   사고유형 세부사고유형       법규위반  사고내용  사망자수  중상자수  경상자수  부상신고자수 가해운전자 차종 가해운전자 연령대 가해운전자 성별 피해운전자 차종 피해운전자 연령대 피해운전자 성별       gid\n",
       "0          0  2017-01-01   서구  용문동   차대차    측면충돌    안전운전불이행  중상사고     0     1     1       0       승용       50대        남       승용       60대        남  다바905151\n",
       "1          1  2017-01-01   서구  탄방동   차대차      추돌    안전운전불이행  경상사고     0     0     1       0       승용       50대        남       승용       30대        남  다바905166\n",
       "2          2  2017-01-01   서구  둔산동  차대사람     횡단중    안전운전불이행  중상사고     0     1     0       0       승용       30대        남      보행자       10대        여  다바888169\n",
       "3          3  2017-01-01  대덕구  오정동   차대차      추돌    안전운전불이행  경상사고     0     0     2       0       승용       50대        남       승합       40대        남  다바917174\n",
       "4          4  2017-01-01  유성구  노은동  차대사람     횡단중    안전운전불이행  경상사고     0     0     1       0       승용       80대        남      보행자     10대미만        남  다바841191\n",
       "...      ...         ...  ...  ...    ...    ...        ...   ...   ...   ...   ...     ...      ...       ...      ...      ...       ...      ...       ...\n",
       "22976  23647  2019-12-31   중구  대흥동  차대사람     횡단중  보행자보호의무위반  경상사고     0     0     1       0       승용       50대        남      보행자       20대        여  다바936139\n",
       "22977  23648  2019-12-31   중구  부사동  차대사람      기타    안전운전불이행  중상사고     0     1     0       0       승용       40대        남      보행자       70대        여  다바941131\n",
       "22978  23649  2019-12-31   동구  가양동   차대차      추돌    안전운전불이행  중상사고     0     1     1       0       승용       20대        남       승용       50대        여  다바946171\n",
       "22979  23650  2019-12-31  대덕구  상서동   차대차      기타    안전운전불이행  경상사고     0     0     3       0       승용       30대        남       승용       40대        여  다바929255\n",
       "22980  23651  2019-12-31  대덕구  송촌동  차대사람     횡단중    안전운전불이행  경상사고     0     0     2       0       승용       60대        남      보행자       50대        남  다바946187\n",
       "\n",
       "[22981 rows x 19 columns]"
      ]
     },
     "execution_count": 37,
     "metadata": {},
     "output_type": "execute_result"
    }
   ],
   "source": [
    "data1"
   ]
  },
  {
   "cell_type": "markdown",
   "id": "fossil-cooling",
   "metadata": {},
   "source": [
    "## data16 - 날씨 데이터"
   ]
  },
  {
   "cell_type": "code",
   "execution_count": 38,
   "id": "changing-capital",
   "metadata": {},
   "outputs": [],
   "source": [
    "data16 = pd.read_csv('16.대전광역시_기상데이터(2017~2019).csv')"
   ]
  },
  {
   "cell_type": "code",
   "execution_count": 39,
   "id": "norman-penny",
   "metadata": {},
   "outputs": [],
   "source": [
    "# 날씨 데이터 이상치 전처리\n",
    "#이상치 전처리 - 누락치 0으로 치환\n",
    "data16['일강수량(mm)'].replace('',0,inplace=True) \n",
    "data16['일 최심적설(cm)'].replace('',0,inplace=True)\n",
    "data16['안개 계속시간(hr)'].replace('',0,inplace=True)\n",
    "data16['평균 풍속(m/s)'].replace('',0,inplace=True)\n",
    "data16.dropna(subset=['일강수량(mm)'],axis=0,inplace=True) "
   ]
  },
  {
   "cell_type": "code",
   "execution_count": 40,
   "id": "center-clear",
   "metadata": {},
   "outputs": [],
   "source": [
    "# data1의 사고일과 병합때 사용하기 위해 일시 -> 사고일로 rename\n",
    "data16.rename(columns = {'일시' : '사고일'}, inplace = True)"
   ]
  },
  {
   "cell_type": "code",
   "execution_count": 41,
   "id": "architectural-lesson",
   "metadata": {},
   "outputs": [
    {
     "name": "stdout",
     "output_type": "stream",
     "text": [
      "<class 'pandas.core.frame.DataFrame'>\n",
      "Int64Index: 418 entries, 7 to 1094\n",
      "Data columns (total 12 columns):\n",
      " #   Column          Non-Null Count  Dtype  \n",
      "---  ------          --------------  -----  \n",
      " 0   사고일             418 non-null    object \n",
      " 1   평균기온(°C)        418 non-null    float64\n",
      " 2   최저기온(°C)        418 non-null    float64\n",
      " 3   최고기온(°C)        418 non-null    float64\n",
      " 4   일강수량(mm)        418 non-null    float64\n",
      " 5   최대 풍속(m/s)      418 non-null    float64\n",
      " 6   최대 풍속 풍향(16방위)  418 non-null    float64\n",
      " 7   평균 풍속(m/s)      418 non-null    float64\n",
      " 8   평균 상대습도(%)      418 non-null    float64\n",
      " 9   일 최심적설(cm)      38 non-null     float64\n",
      " 10  평균 지면온도(°C)     418 non-null    float64\n",
      " 11  안개 계속시간(hr)     31 non-null     float64\n",
      "dtypes: float64(11), object(1)\n",
      "memory usage: 42.5+ KB\n"
     ]
    }
   ],
   "source": [
    "#문자열로 되어있는 기상데이터를 모두 형변환\n",
    "\n",
    "data16['평균기온(°C)'] = data16['평균기온(°C)'].astype(float)\n",
    "data16['최저기온(°C)'] = data16['최저기온(°C)'].astype(float)\n",
    "data16['최고기온(°C)'] = data16['최고기온(°C)'].astype(float)\n",
    "data16['일강수량(mm)'] = data16['일강수량(mm)'].astype(float)\n",
    "data16['최대 풍속(m/s)'] = data16['최대 풍속(m/s)'].astype(float)\n",
    "data16['최대 풍속 풍향(16방위)'] = data16['최대 풍속 풍향(16방위)'].astype(float)\n",
    "data16['평균 풍속(m/s)'] = data16['평균 풍속(m/s)'].astype(float)\n",
    "data16['평균 상대습도(%)'] = data16['평균 상대습도(%)'].astype(float)\n",
    "data16['일 최심적설(cm)'] = data16['일 최심적설(cm)'].astype(float)\n",
    "data16['평균 지면온도(°C)'] = data16['평균 지면온도(°C)'].astype(float)\n",
    "data16['안개 계속시간(hr)'] = data16['안개 계속시간(hr)'].astype(float)\n",
    "data16.info()\n",
    "data16.to_csv('weather_data.csv', index=False )"
   ]
  },
  {
   "cell_type": "markdown",
   "id": "constant-cookbook",
   "metadata": {},
   "source": [
    "# type2 - 사고격자와 gid or geometry 로 병합 가능한 데이터"
   ]
  },
  {
   "cell_type": "markdown",
   "id": "cellular-arnold",
   "metadata": {},
   "source": [
    "# 데이터 12 : 인구 데이터"
   ]
  },
  {
   "cell_type": "code",
   "execution_count": 42,
   "id": "prospective-stupid",
   "metadata": {},
   "outputs": [],
   "source": [
    "#val에 있는 nan값 전처리\n",
    "data12['val'] =  data12['val'].fillna(0)\n",
    "data12.to_file('total_population.geojson', driver= 'GeoJSON')"
   ]
  },
  {
   "cell_type": "markdown",
   "id": "literary-niger",
   "metadata": {},
   "source": [
    "# 데이터 13 : 고령자 데이터 "
   ]
  },
  {
   "cell_type": "code",
   "execution_count": 43,
   "id": "pointed-wesley",
   "metadata": {},
   "outputs": [],
   "source": [
    "#val에 있는 nan값 전처리\n",
    "data13['val'] =  data13['val'].fillna(0)\n",
    "data12.to_file('old_population.geojson', driver= 'GeoJSON')"
   ]
  },
  {
   "cell_type": "markdown",
   "id": "robust-tissue",
   "metadata": {},
   "source": [
    "# 데이터 14 : 생산가능 인구 "
   ]
  },
  {
   "cell_type": "code",
   "execution_count": 44,
   "id": "banner-french",
   "metadata": {},
   "outputs": [],
   "source": [
    "#val에 있는 nan값 전처리\n",
    "data14['val'] =  data14['val'].fillna(0)\n",
    "data14.to_file('labor_population.geojson', driver= 'GeoJSON')"
   ]
  },
  {
   "cell_type": "markdown",
   "id": "incomplete-elephant",
   "metadata": {},
   "source": [
    "# 데이터 15 : 유소년 인구"
   ]
  },
  {
   "cell_type": "code",
   "execution_count": 45,
   "id": "computational-lighting",
   "metadata": {},
   "outputs": [],
   "source": [
    "#val에 있는 nan값 전처리\n",
    "data15['val'] =  data15['val'].fillna(0)\n",
    "data15.to_file('youth_population.geojson', driver= 'GeoJSON')"
   ]
  },
  {
   "cell_type": "markdown",
   "id": "thermal-intensity",
   "metadata": {},
   "source": [
    "# 데이터 16 : 교통노드"
   ]
  },
  {
   "cell_type": "code",
   "execution_count": 46,
   "id": "german-louis",
   "metadata": {},
   "outputs": [],
   "source": [
    "data20 = pd.read_csv('20.대전광역시_평일_일별_시간대별_추정교통량(2018).csv')"
   ]
  },
  {
   "cell_type": "code",
   "execution_count": 47,
   "id": "antique-harrison",
   "metadata": {},
   "outputs": [],
   "source": [
    "data20['상세도로망_LinkID'] = data20['상세도로망_LinkID'].astype(str)\n",
    "data20['상세도로망_LinkID'] = data20['상세도로망_LinkID'].str[:-2]\n",
    "data20['상세도로망_LinkID'] = data20['상세도로망_LinkID'].astype(int)\n",
    "#data20.to_csv('node_data.csv')"
   ]
  },
  {
   "cell_type": "code",
   "execution_count": 48,
   "id": "rubber-exclusive",
   "metadata": {},
   "outputs": [],
   "source": [
    "data21 = data20[data20['시간적범위']=='fulltime']"
   ]
  },
  {
   "cell_type": "code",
   "execution_count": 49,
   "id": "consistent-translation",
   "metadata": {},
   "outputs": [],
   "source": [
    "# 전체 시간 (24시간 대비 평균 교통량)\n",
    "data21 = data21[['상세도로망_LinkID','전체_추정교통량','승용차_추정교통량', '버스_추정교통량', '화물차_추정교통량']].groupby(['상세도로망_LinkID']).mean()\n",
    "data21.reset_index(inplace=True)"
   ]
  },
  {
   "cell_type": "code",
   "execution_count": 50,
   "id": "conservative-single",
   "metadata": {},
   "outputs": [],
   "source": [
    "data21.to_csv('node_data.csv',index=False)"
   ]
  },
  {
   "cell_type": "markdown",
   "id": "unlimited-cleanup",
   "metadata": {},
   "source": [
    "# 데이터 17 : 평일 일별 혼잡 빈도 강도"
   ]
  },
  {
   "cell_type": "code",
   "execution_count": 51,
   "id": "eleven-greece",
   "metadata": {},
   "outputs": [],
   "source": [
    "data22 = pd.read_csv('21.대전광역시_평일_일별_혼잡빈도강도(2018).csv')"
   ]
  },
  {
   "cell_type": "code",
   "execution_count": 52,
   "id": "affected-ordinance",
   "metadata": {},
   "outputs": [],
   "source": [
    "data22['상세도로망_LinkID'] = data22['상세도로망_LinkID'].astype(str)\n",
    "data22['상세도로망_LinkID'] = data22['상세도로망_LinkID'].str[:-2]\n",
    "data22['상세도로망_LinkID'] = data22['상세도로망_LinkID'].astype(int)\n",
    "\n",
    "data22 = data22[['상세도로망_LinkID','혼잡빈도강도']].groupby(['상세도로망_LinkID']).mean()\n",
    "data22.reset_index(inplace=True)"
   ]
  },
  {
   "cell_type": "code",
   "execution_count": 53,
   "id": "abroad-lancaster",
   "metadata": {},
   "outputs": [],
   "source": [
    "data22.to_csv('honjap_frequency.csv', index=False)"
   ]
  },
  {
   "cell_type": "markdown",
   "id": "moral-retail",
   "metadata": {},
   "source": [
    "#  데이터 18 : 평일 일별 혼잡 시간 강도"
   ]
  },
  {
   "cell_type": "code",
   "execution_count": 54,
   "id": "coupled-stevens",
   "metadata": {},
   "outputs": [],
   "source": [
    "data23 = pd.read_csv('22.대전광역시_평일_일별_혼잡시간강도(2018).csv')"
   ]
  },
  {
   "cell_type": "code",
   "execution_count": 55,
   "id": "difficult-eligibility",
   "metadata": {},
   "outputs": [],
   "source": [
    "data23['상세도로망_LinkID'] = data23['상세도로망_LinkID'].astype(str)\n",
    "data23['상세도로망_LinkID'] = data23['상세도로망_LinkID'].str[:-2]\n",
    "data23['상세도로망_LinkID'] = data23['상세도로망_LinkID'].astype(int)\n",
    "\n",
    "data23 = data23[['상세도로망_LinkID','혼잡시간강도']].groupby(['상세도로망_LinkID']).mean()\n",
    "data23.reset_index(inplace=True)"
   ]
  },
  {
   "cell_type": "code",
   "execution_count": 56,
   "id": "decimal-horizontal",
   "metadata": {},
   "outputs": [],
   "source": [
    "data23.to_csv('honjap_intensity.csv',index=False)"
   ]
  }
 ],
 "metadata": {
  "kernelspec": {
   "display_name": "Python 3",
   "language": "python",
   "name": "python3"
  },
  "language_info": {
   "codemirror_mode": {
    "name": "ipython",
    "version": 3
   },
   "file_extension": ".py",
   "mimetype": "text/x-python",
   "name": "python",
   "nbconvert_exporter": "python",
   "pygments_lexer": "ipython3",
   "version": "3.6.9"
  }
 },
 "nbformat": 4,
 "nbformat_minor": 5
}
